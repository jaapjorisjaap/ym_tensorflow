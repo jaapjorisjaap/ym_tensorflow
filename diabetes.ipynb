{
 "cells": [
  {
   "cell_type": "markdown",
   "metadata": {},
   "source": [
    "## Diabetes, regularization and early stopping\n",
    "\n",
    "We are going to look at the diabetes dataset. Due to the size of the dataset there is a big chance of overfitting. \n",
    "We will first naivly build a model, then see that it overfits and try to counter this by early stopping and regularization."
   ]
  },
  {
   "cell_type": "markdown",
   "metadata": {},
   "source": [
    "## The data\n",
    "\n",
    "First we explore the data"
   ]
  },
  {
   "cell_type": "code",
   "execution_count": 1,
   "metadata": {},
   "outputs": [
    {
     "name": "stdout",
     "output_type": "stream",
     "text": [
      ".. _diabetes_dataset:\n",
      "\n",
      "Diabetes dataset\n",
      "----------------\n",
      "\n",
      "Ten baseline variables, age, sex, body mass index, average blood\n",
      "pressure, and six blood serum measurements were obtained for each of n =\n",
      "442 diabetes patients, as well as the response of interest, a\n",
      "quantitative measure of disease progression one year after baseline.\n",
      "\n",
      "**Data Set Characteristics:**\n",
      "\n",
      "  :Number of Instances: 442\n",
      "\n",
      "  :Number of Attributes: First 10 columns are numeric predictive values\n",
      "\n",
      "  :Target: Column 11 is a quantitative measure of disease progression one year after baseline\n",
      "\n",
      "  :Attribute Information:\n",
      "      - age     age in years\n",
      "      - sex\n",
      "      - bmi     body mass index\n",
      "      - bp      average blood pressure\n",
      "      - s1      tc, T-Cells (a type of white blood cells)\n",
      "      - s2      ldl, low-density lipoproteins\n",
      "      - s3      hdl, high-density lipoproteins\n",
      "      - s4      tch, thyroid stimulating hormone\n",
      "      - s5      ltg, lamotrigine\n",
      "      - s6      glu, blood sugar level\n",
      "\n",
      "Note: Each of these 10 feature variables have been mean centered and scaled by the standard deviation times `n_samples` (i.e. the sum of squares of each column totals 1).\n",
      "\n",
      "Source URL:\n",
      "https://www4.stat.ncsu.edu/~boos/var.select/diabetes.html\n",
      "\n",
      "For more information see:\n",
      "Bradley Efron, Trevor Hastie, Iain Johnstone and Robert Tibshirani (2004) \"Least Angle Regression,\" Annals of Statistics (with discussion), 407-499.\n",
      "(https://web.stanford.edu/~hastie/Papers/LARS/LeastAngle_2002.pdf)\n"
     ]
    }
   ],
   "source": [
    "#Import tensorflow\n",
    "import tensorflow as tf\n",
    "\n",
    "# Load the diabetes dataset\n",
    "from sklearn.datasets import load_diabetes\n",
    "\n",
    "diabetes_dataset = load_diabetes()\n",
    "\n",
    "#Show the description of the dataset.\n",
    "print(diabetes_dataset[\"DESCR\"])"
   ]
  },
  {
   "cell_type": "code",
   "execution_count": 2,
   "metadata": {},
   "outputs": [],
   "source": [
    "# Save the input and target variables\n",
    "\n",
    "data = diabetes_dataset[\"data\"]\n",
    "targets = diabetes_dataset[\"target\"]\n",
    "\n",
    "\n"
   ]
  },
  {
   "cell_type": "code",
   "execution_count": 3,
   "metadata": {},
   "outputs": [
    {
     "name": "stdout",
     "output_type": "stream",
     "text": [
      "[[ 0.03807591  0.05068012  0.06169621 ... -0.00259226  0.01990842\n",
      "  -0.01764613]\n",
      " [-0.00188202 -0.04464164 -0.05147406 ... -0.03949338 -0.06832974\n",
      "  -0.09220405]\n",
      " [ 0.08529891  0.05068012  0.04445121 ... -0.00259226  0.00286377\n",
      "  -0.02593034]\n",
      " ...\n",
      " [ 0.04170844  0.05068012 -0.01590626 ... -0.01107952 -0.04687948\n",
      "   0.01549073]\n",
      " [-0.04547248 -0.04464164  0.03906215 ...  0.02655962  0.04452837\n",
      "  -0.02593034]\n",
      " [-0.04547248 -0.04464164 -0.0730303  ... -0.03949338 -0.00421986\n",
      "   0.00306441]]\n",
      "(442, 10)\n"
     ]
    }
   ],
   "source": [
    "#Explore the dataset. Print out information that you want to know\n",
    "print(data)\n",
    "print(data.shape)"
   ]
  },
  {
   "cell_type": "code",
   "execution_count": 4,
   "metadata": {},
   "outputs": [],
   "source": [
    "# We normalize the data (To make sure they are all on the same axis)\n",
    "\n",
    "targets = (targets - targets.mean(axis=0))/targets.std()"
   ]
  },
  {
   "cell_type": "code",
   "execution_count": 5,
   "metadata": {},
   "outputs": [
    {
     "name": "stdout",
     "output_type": "stream",
     "text": [
      "(397, 10)\n",
      "(45, 10)\n",
      "(397,)\n",
      "(45,)\n"
     ]
    }
   ],
   "source": [
    "# Split the data into train and test sets with test being 10% of the data\n",
    "from sklearn.model_selection import train_test_split\n",
    "\n",
    "train_data, test_data, train_targets, test_targets = train_test_split(data, targets, test_size=0.1)\n",
    "\n",
    "print(train_data.shape)\n",
    "print(test_data.shape)\n",
    "print(train_targets.shape)\n",
    "print(test_targets.shape)"
   ]
  },
  {
   "cell_type": "markdown",
   "metadata": {},
   "source": [
    "## Building the model\n",
    "We start with a non regularised model, train it and check how it performs"
   ]
  },
  {
   "cell_type": "code",
   "execution_count": 6,
   "metadata": {},
   "outputs": [],
   "source": [
    "# Build a non regularised model with 5 hidden layers each having 128 units and activation of relu, last layer must have an linear output\n",
    "from tensorflow.keras.models import Sequential\n",
    "from tensorflow.keras.layers import Dense\n",
    "\n",
    "def get_model():\n",
    "    model = Sequential(\n",
    "    [\n",
    "        Dense(128, activation=\"relu\", input_shape=(train_data.shape[1], )),\n",
    "        Dense(128, activation=\"relu\"),\n",
    "        Dense(128, activation=\"relu\"),\n",
    "        Dense(128, activation=\"relu\"),\n",
    "        Dense(128, activation=\"relu\"),\n",
    "        Dense(128, activation=\"relu\"),\n",
    "        Dense(1)\n",
    "        \n",
    "    ])\n",
    "    return model\n",
    "\n",
    "model = get_model()"
   ]
  },
  {
   "cell_type": "code",
   "execution_count": 7,
   "metadata": {},
   "outputs": [
    {
     "name": "stdout",
     "output_type": "stream",
     "text": [
      "Model: \"sequential\"\n",
      "_________________________________________________________________\n",
      "Layer (type)                 Output Shape              Param #   \n",
      "=================================================================\n",
      "dense (Dense)                (None, 128)               1408      \n",
      "_________________________________________________________________\n",
      "dense_1 (Dense)              (None, 128)               16512     \n",
      "_________________________________________________________________\n",
      "dense_2 (Dense)              (None, 128)               16512     \n",
      "_________________________________________________________________\n",
      "dense_3 (Dense)              (None, 128)               16512     \n",
      "_________________________________________________________________\n",
      "dense_4 (Dense)              (None, 128)               16512     \n",
      "_________________________________________________________________\n",
      "dense_5 (Dense)              (None, 128)               16512     \n",
      "_________________________________________________________________\n",
      "dense_6 (Dense)              (None, 1)                 129       \n",
      "=================================================================\n",
      "Total params: 84,097\n",
      "Trainable params: 84,097\n",
      "Non-trainable params: 0\n",
      "_________________________________________________________________\n"
     ]
    }
   ],
   "source": [
    "# Print the model summary\n",
    "\n",
    "model.summary()"
   ]
  },
  {
   "cell_type": "code",
   "execution_count": 8,
   "metadata": {},
   "outputs": [],
   "source": [
    "# Compile the model with adam optimizer and mse as the loss and the mean absolute error (mae) as a metric\n",
    "\n",
    "model.compile(optimizer=\"adam\", loss=\"mse\", metrics=[\"mae\"])"
   ]
  },
  {
   "cell_type": "code",
   "execution_count": 9,
   "metadata": {},
   "outputs": [],
   "source": [
    "# Train the model, with some of the data reserved for validation (15%) (Use validation_split=0.15).\n",
    "# Use batch size of 64 and 100 epochs\n",
    "history = model.fit(train_data, train_targets, epochs=100, validation_split=0.15, batch_size=64, verbose=False)\n"
   ]
  },
  {
   "cell_type": "code",
   "execution_count": 10,
   "metadata": {},
   "outputs": [
    {
     "name": "stdout",
     "output_type": "stream",
     "text": [
      "45/45 [==============================] - 0s 88us/sample - loss: 1.0725 - mae: 0.8058\n"
     ]
    },
    {
     "data": {
      "text/plain": [
       "[1.0724614805645414, 0.8058424]"
      ]
     },
     "execution_count": 10,
     "metadata": {},
     "output_type": "execute_result"
    }
   ],
   "source": [
    "#Evaluate on the test set\n",
    "model.evaluate(test_data, test_targets, )\n"
   ]
  },
  {
   "cell_type": "code",
   "execution_count": 11,
   "metadata": {},
   "outputs": [],
   "source": [
    "#plot the learning curves for both validation set and the training set. \n",
    "import matplotlib.pyplot as plt\n",
    "%matplotlib inline"
   ]
  },
  {
   "cell_type": "code",
   "execution_count": 12,
   "metadata": {},
   "outputs": [
    {
     "data": {
      "image/png": "[encoded data removed]",
      "text/plain": [
       "<Figure size 432x288 with 1 Axes>"
      ]
     },
     "metadata": {
      "needs_background": "light"
     },
     "output_type": "display_data"
    }
   ],
   "source": [
    "plt.plot(history.history['loss'])\n",
    "plt.plot(history.history['val_loss'])\n",
    "plt.title('Loss vs. epochs')\n",
    "plt.ylabel('Loss')\n",
    "plt.xlabel('Epoch')\n",
    "plt.legend(['Training', 'Validation'], loc='upper right')\n",
    "plt.show()"
   ]
  },
  {
   "cell_type": "markdown",
   "metadata": {},
   "source": [
    "## Regularization\n",
    "\n",
    "If everything went well. You can see that we have overfitted on the training data.\n",
    "We want to solve this with the help of regularization\n",
    "\n",
    "We do this in two ways:\n",
    "\n",
    "1) We add dropout layers with rate of 0.3 between each dense layer\n",
    "\n",
    "2) We add l2 regularization with a weight decay of 1e-5 on each dense layer (except the last)\n",
    "\n",
    "\n",
    "Search the tensorflow documentition on how to do this.\n",
    "\n",
    "(Tip search for kernel regularization and for a layer called Dropout)\n"
   ]
  },
  {
   "cell_type": "code",
   "execution_count": 13,
   "metadata": {},
   "outputs": [],
   "source": [
    "#Build the model\n",
    "from tensorflow.keras.layers import Dropout\n",
    "from tensorflow.keras import regularizers"
   ]
  },
  {
   "cell_type": "code",
   "execution_count": 14,
   "metadata": {},
   "outputs": [],
   "source": [
    "def get_regularised_model(wd, rate):\n",
    "    model = Sequential([\n",
    "        Dense(128, kernel_regularizer=regularizers.l2(wd) ,activation=\"relu\", input_shape=(train_data.shape[1],)),\n",
    "        Dropout(rate),\n",
    "        Dense(128, kernel_regularizer=regularizers.l2(wd),activation=\"relu\"),\n",
    "        Dropout(rate),\n",
    "        Dense(128, kernel_regularizer=regularizers.l2(wd),activation=\"relu\"),\n",
    "        Dropout(rate),\n",
    "        Dense(128, kernel_regularizer=regularizers.l2(wd),activation=\"relu\"),\n",
    "        Dropout(rate),\n",
    "        Dense(128, kernel_regularizer=regularizers.l2(wd),activation=\"relu\"),\n",
    "        Dropout(rate),\n",
    "        Dense(128, kernel_regularizer=regularizers.l2(wd),activation=\"relu\"),\n",
    "        Dropout(rate),\n",
    "        Dense(1)\n",
    "    ])\n",
    "    return model"
   ]
  },
  {
   "cell_type": "code",
   "execution_count": 15,
   "metadata": {},
   "outputs": [],
   "source": [
    "# Re-build the model with weight decay and dropout layers\n",
    "regularized_model = get_regularised_model(1e-5, 0.3)"
   ]
  },
  {
   "cell_type": "code",
   "execution_count": 16,
   "metadata": {},
   "outputs": [],
   "source": [
    "# Compile the model as before\n",
    "\n",
    "regularized_model.compile(optimizer=\"adam\", loss=\"mse\", metrics=[\"mae\"])"
   ]
  },
  {
   "cell_type": "code",
   "execution_count": 17,
   "metadata": {},
   "outputs": [
    {
     "name": "stdout",
     "output_type": "stream",
     "text": [
      "Train on 337 samples, validate on 60 samples\n",
      "Epoch 1/100\n",
      "337/337 [==============================] - 1s 1ms/sample - loss: 0.9632 - mae: 0.8316 - val_loss: 1.1434 - val_mae: 0.9134\n",
      "Epoch 2/100\n",
      "337/337 [==============================] - 0s 83us/sample - loss: 0.9349 - mae: 0.8196 - val_loss: 1.0397 - val_mae: 0.8694\n",
      "Epoch 3/100\n",
      "337/337 [==============================] - 0s 77us/sample - loss: 0.8333 - mae: 0.7485 - val_loss: 0.8022 - val_mae: 0.7550\n",
      "Epoch 4/100\n",
      "337/337 [==============================] - 0s 80us/sample - loss: 0.6930 - mae: 0.6919 - val_loss: 0.5963 - val_mae: 0.6510\n",
      "Epoch 5/100\n",
      "337/337 [==============================] - 0s 86us/sample - loss: 0.5962 - mae: 0.6337 - val_loss: 0.5487 - val_mae: 0.6263\n",
      "Epoch 6/100\n",
      "337/337 [==============================] - 0s 82us/sample - loss: 0.5850 - mae: 0.6227 - val_loss: 0.4963 - val_mae: 0.5710\n",
      "Epoch 7/100\n",
      "337/337 [==============================] - 0s 78us/sample - loss: 0.5494 - mae: 0.5983 - val_loss: 0.5220 - val_mae: 0.6170\n",
      "Epoch 8/100\n",
      "337/337 [==============================] - 0s 81us/sample - loss: 0.5199 - mae: 0.5819 - val_loss: 0.4755 - val_mae: 0.5770\n",
      "Epoch 9/100\n",
      "337/337 [==============================] - 0s 83us/sample - loss: 0.5165 - mae: 0.5794 - val_loss: 0.4904 - val_mae: 0.5862\n",
      "Epoch 10/100\n",
      "337/337 [==============================] - 0s 81us/sample - loss: 0.5212 - mae: 0.5832 - val_loss: 0.5257 - val_mae: 0.6177\n",
      "Epoch 11/100\n",
      "337/337 [==============================] - 0s 83us/sample - loss: 0.5260 - mae: 0.5950 - val_loss: 0.4680 - val_mae: 0.5592\n",
      "Epoch 12/100\n",
      "337/337 [==============================] - 0s 80us/sample - loss: 0.5153 - mae: 0.5820 - val_loss: 0.5471 - val_mae: 0.6360\n",
      "Epoch 13/100\n",
      "337/337 [==============================] - 0s 81us/sample - loss: 0.5002 - mae: 0.5662 - val_loss: 0.4710 - val_mae: 0.5635\n",
      "Epoch 14/100\n",
      "337/337 [==============================] - 0s 81us/sample - loss: 0.4872 - mae: 0.5632 - val_loss: 0.4948 - val_mae: 0.5819\n",
      "Epoch 15/100\n",
      "337/337 [==============================] - 0s 81us/sample - loss: 0.4971 - mae: 0.5674 - val_loss: 0.5015 - val_mae: 0.5897\n",
      "Epoch 16/100\n",
      "337/337 [==============================] - 0s 80us/sample - loss: 0.4982 - mae: 0.5613 - val_loss: 0.4743 - val_mae: 0.5639\n",
      "Epoch 17/100\n",
      "337/337 [==============================] - 0s 83us/sample - loss: 0.5046 - mae: 0.5726 - val_loss: 0.5222 - val_mae: 0.6065\n",
      "Epoch 18/100\n",
      "337/337 [==============================] - 0s 80us/sample - loss: 0.4789 - mae: 0.5542 - val_loss: 0.5154 - val_mae: 0.5991\n",
      "Epoch 19/100\n",
      "337/337 [==============================] - 0s 81us/sample - loss: 0.4692 - mae: 0.5557 - val_loss: 0.5011 - val_mae: 0.5855\n",
      "Epoch 20/100\n",
      "337/337 [==============================] - 0s 78us/sample - loss: 0.4440 - mae: 0.5291 - val_loss: 0.5089 - val_mae: 0.5878\n",
      "Epoch 21/100\n",
      "337/337 [==============================] - 0s 80us/sample - loss: 0.4992 - mae: 0.5639 - val_loss: 0.5107 - val_mae: 0.5917\n",
      "Epoch 22/100\n",
      "337/337 [==============================] - 0s 80us/sample - loss: 0.4174 - mae: 0.5096 - val_loss: 0.5032 - val_mae: 0.5881\n",
      "Epoch 23/100\n",
      "337/337 [==============================] - 0s 81us/sample - loss: 0.4658 - mae: 0.5501 - val_loss: 0.5201 - val_mae: 0.6011\n",
      "Epoch 24/100\n",
      "337/337 [==============================] - 0s 80us/sample - loss: 0.4428 - mae: 0.5310 - val_loss: 0.4952 - val_mae: 0.5823\n",
      "Epoch 25/100\n",
      "337/337 [==============================] - 0s 77us/sample - loss: 0.4464 - mae: 0.5405 - val_loss: 0.4922 - val_mae: 0.5795\n",
      "Epoch 26/100\n",
      "337/337 [==============================] - 0s 80us/sample - loss: 0.4320 - mae: 0.5286 - val_loss: 0.4820 - val_mae: 0.5658\n",
      "Epoch 27/100\n",
      "337/337 [==============================] - 0s 80us/sample - loss: 0.4725 - mae: 0.5445 - val_loss: 0.5294 - val_mae: 0.6090\n",
      "Epoch 28/100\n",
      "337/337 [==============================] - 0s 81us/sample - loss: 0.4114 - mae: 0.5157 - val_loss: 0.4893 - val_mae: 0.5552\n",
      "Epoch 29/100\n",
      "337/337 [==============================] - 0s 81us/sample - loss: 0.4469 - mae: 0.5216 - val_loss: 0.5307 - val_mae: 0.6103\n",
      "Epoch 30/100\n",
      "337/337 [==============================] - 0s 80us/sample - loss: 0.4402 - mae: 0.5362 - val_loss: 0.5525 - val_mae: 0.6267\n",
      "Epoch 31/100\n",
      "337/337 [==============================] - 0s 77us/sample - loss: 0.4538 - mae: 0.5418 - val_loss: 0.5096 - val_mae: 0.5867\n",
      "Epoch 32/100\n",
      "337/337 [==============================] - 0s 83us/sample - loss: 0.4032 - mae: 0.5155 - val_loss: 0.4726 - val_mae: 0.5504\n",
      "Epoch 33/100\n",
      "337/337 [==============================] - 0s 83us/sample - loss: 0.4727 - mae: 0.5469 - val_loss: 0.5603 - val_mae: 0.6213\n",
      "Epoch 34/100\n",
      "337/337 [==============================] - 0s 80us/sample - loss: 0.4355 - mae: 0.5328 - val_loss: 0.4923 - val_mae: 0.5732\n",
      "Epoch 35/100\n",
      "337/337 [==============================] - 0s 81us/sample - loss: 0.4335 - mae: 0.5247 - val_loss: 0.5266 - val_mae: 0.5970\n",
      "Epoch 36/100\n",
      "337/337 [==============================] - 0s 83us/sample - loss: 0.4076 - mae: 0.5083 - val_loss: 0.5076 - val_mae: 0.5842\n",
      "Epoch 37/100\n",
      "337/337 [==============================] - 0s 84us/sample - loss: 0.4275 - mae: 0.5295 - val_loss: 0.5005 - val_mae: 0.5754\n",
      "Epoch 38/100\n",
      "337/337 [==============================] - 0s 79us/sample - loss: 0.4398 - mae: 0.5199 - val_loss: 0.5076 - val_mae: 0.5823\n",
      "Epoch 39/100\n",
      "337/337 [==============================] - 0s 83us/sample - loss: 0.4137 - mae: 0.5131 - val_loss: 0.5264 - val_mae: 0.6013\n",
      "Epoch 40/100\n",
      "337/337 [==============================] - 0s 80us/sample - loss: 0.4435 - mae: 0.5229 - val_loss: 0.5039 - val_mae: 0.5793\n",
      "Epoch 41/100\n",
      "337/337 [==============================] - 0s 80us/sample - loss: 0.4066 - mae: 0.5050 - val_loss: 0.5233 - val_mae: 0.5731\n",
      "Epoch 42/100\n",
      "337/337 [==============================] - 0s 80us/sample - loss: 0.4137 - mae: 0.5070 - val_loss: 0.5463 - val_mae: 0.6043\n",
      "Epoch 43/100\n",
      "337/337 [==============================] - 0s 80us/sample - loss: 0.4024 - mae: 0.4980 - val_loss: 0.4965 - val_mae: 0.5701\n",
      "Epoch 44/100\n",
      "337/337 [==============================] - 0s 82us/sample - loss: 0.3967 - mae: 0.5106 - val_loss: 0.5028 - val_mae: 0.5752\n",
      "Epoch 45/100\n",
      "337/337 [==============================] - 0s 83us/sample - loss: 0.4149 - mae: 0.5044 - val_loss: 0.4874 - val_mae: 0.5547\n",
      "Epoch 46/100\n",
      "337/337 [==============================] - 0s 80us/sample - loss: 0.4038 - mae: 0.5026 - val_loss: 0.5093 - val_mae: 0.5884\n",
      "Epoch 47/100\n",
      "337/337 [==============================] - 0s 80us/sample - loss: 0.3598 - mae: 0.4827 - val_loss: 0.5051 - val_mae: 0.5770\n",
      "Epoch 48/100\n",
      "337/337 [==============================] - 0s 83us/sample - loss: 0.3981 - mae: 0.4939 - val_loss: 0.5029 - val_mae: 0.5658\n",
      "Epoch 49/100\n",
      "337/337 [==============================] - 0s 82us/sample - loss: 0.3871 - mae: 0.4980 - val_loss: 0.5436 - val_mae: 0.6159\n",
      "Epoch 50/100\n",
      "337/337 [==============================] - 0s 80us/sample - loss: 0.3993 - mae: 0.4994 - val_loss: 0.5085 - val_mae: 0.5844\n",
      "Epoch 51/100\n",
      "337/337 [==============================] - 0s 83us/sample - loss: 0.3691 - mae: 0.4815 - val_loss: 0.4907 - val_mae: 0.5651\n",
      "Epoch 52/100\n",
      "337/337 [==============================] - 0s 81us/sample - loss: 0.3969 - mae: 0.5065 - val_loss: 0.4872 - val_mae: 0.5634\n",
      "Epoch 53/100\n",
      "337/337 [==============================] - 0s 82us/sample - loss: 0.4069 - mae: 0.5020 - val_loss: 0.5197 - val_mae: 0.5839\n",
      "Epoch 54/100\n",
      "337/337 [==============================] - 0s 80us/sample - loss: 0.3822 - mae: 0.4838 - val_loss: 0.5503 - val_mae: 0.5836\n",
      "Epoch 55/100\n",
      "337/337 [==============================] - 0s 80us/sample - loss: 0.3920 - mae: 0.4925 - val_loss: 0.5153 - val_mae: 0.5648\n",
      "Epoch 56/100\n",
      "337/337 [==============================] - 0s 77us/sample - loss: 0.3958 - mae: 0.4965 - val_loss: 0.5226 - val_mae: 0.5950\n",
      "Epoch 57/100\n",
      "337/337 [==============================] - 0s 81us/sample - loss: 0.3644 - mae: 0.4827 - val_loss: 0.5095 - val_mae: 0.5793\n",
      "Epoch 58/100\n",
      "337/337 [==============================] - 0s 80us/sample - loss: 0.3830 - mae: 0.4854 - val_loss: 0.4902 - val_mae: 0.5661\n",
      "Epoch 59/100\n",
      "337/337 [==============================] - 0s 85us/sample - loss: 0.3934 - mae: 0.5035 - val_loss: 0.5325 - val_mae: 0.5969\n",
      "Epoch 60/100\n"
     ]
    },
    {
     "name": "stdout",
     "output_type": "stream",
     "text": [
      "337/337 [==============================] - 0s 83us/sample - loss: 0.3592 - mae: 0.4833 - val_loss: 0.4992 - val_mae: 0.5500\n",
      "Epoch 61/100\n",
      "337/337 [==============================] - 0s 81us/sample - loss: 0.3790 - mae: 0.4876 - val_loss: 0.6131 - val_mae: 0.6413\n",
      "Epoch 62/100\n",
      "337/337 [==============================] - 0s 77us/sample - loss: 0.3813 - mae: 0.4839 - val_loss: 0.5164 - val_mae: 0.5834\n",
      "Epoch 63/100\n",
      "337/337 [==============================] - ETA: 0s - loss: 0.3032 - mae: 0.421 - 0s 80us/sample - loss: 0.3721 - mae: 0.4872 - val_loss: 0.5001 - val_mae: 0.5716\n",
      "Epoch 64/100\n",
      "337/337 [==============================] - 0s 77us/sample - loss: 0.3609 - mae: 0.4738 - val_loss: 0.5045 - val_mae: 0.5687\n",
      "Epoch 65/100\n",
      "337/337 [==============================] - 0s 80us/sample - loss: 0.3526 - mae: 0.4619 - val_loss: 0.5272 - val_mae: 0.5771\n",
      "Epoch 66/100\n",
      "337/337 [==============================] - 0s 80us/sample - loss: 0.3914 - mae: 0.5045 - val_loss: 0.5884 - val_mae: 0.6108\n",
      "Epoch 67/100\n",
      "337/337 [==============================] - 0s 81us/sample - loss: 0.3622 - mae: 0.4849 - val_loss: 0.5732 - val_mae: 0.6158\n",
      "Epoch 68/100\n",
      "337/337 [==============================] - 0s 78us/sample - loss: 0.3437 - mae: 0.4620 - val_loss: 0.5182 - val_mae: 0.5770\n",
      "Epoch 69/100\n",
      "337/337 [==============================] - 0s 80us/sample - loss: 0.3621 - mae: 0.4861 - val_loss: 0.4803 - val_mae: 0.5590\n",
      "Epoch 70/100\n",
      "337/337 [==============================] - 0s 80us/sample - loss: 0.3464 - mae: 0.4740 - val_loss: 0.5103 - val_mae: 0.5782\n",
      "Epoch 71/100\n",
      "337/337 [==============================] - 0s 81us/sample - loss: 0.3480 - mae: 0.4655 - val_loss: 0.5279 - val_mae: 0.5666\n",
      "Epoch 72/100\n",
      "337/337 [==============================] - 0s 77us/sample - loss: 0.3770 - mae: 0.4925 - val_loss: 0.5712 - val_mae: 0.6235\n",
      "Epoch 73/100\n",
      "337/337 [==============================] - 0s 80us/sample - loss: 0.3556 - mae: 0.4709 - val_loss: 0.5136 - val_mae: 0.5765\n",
      "Epoch 74/100\n",
      "337/337 [==============================] - 0s 79us/sample - loss: 0.3330 - mae: 0.4581 - val_loss: 0.5387 - val_mae: 0.5805\n",
      "Epoch 75/100\n",
      "337/337 [==============================] - 0s 80us/sample - loss: 0.3504 - mae: 0.4620 - val_loss: 0.4976 - val_mae: 0.5529\n",
      "Epoch 76/100\n",
      "337/337 [==============================] - 0s 78us/sample - loss: 0.3461 - mae: 0.4621 - val_loss: 0.5225 - val_mae: 0.5917\n",
      "Epoch 77/100\n",
      "337/337 [==============================] - 0s 83us/sample - loss: 0.3363 - mae: 0.4609 - val_loss: 0.5138 - val_mae: 0.5767\n",
      "Epoch 78/100\n",
      "337/337 [==============================] - 0s 85us/sample - loss: 0.3301 - mae: 0.4518 - val_loss: 0.5144 - val_mae: 0.5776\n",
      "Epoch 79/100\n",
      "337/337 [==============================] - 0s 80us/sample - loss: 0.3670 - mae: 0.4724 - val_loss: 0.6006 - val_mae: 0.6384\n",
      "Epoch 80/100\n",
      "337/337 [==============================] - 0s 80us/sample - loss: 0.3275 - mae: 0.4574 - val_loss: 0.5202 - val_mae: 0.5669\n",
      "Epoch 81/100\n",
      "337/337 [==============================] - 0s 83us/sample - loss: 0.3225 - mae: 0.4467 - val_loss: 0.5209 - val_mae: 0.5759\n",
      "Epoch 82/100\n",
      "337/337 [==============================] - 0s 80us/sample - loss: 0.3569 - mae: 0.4719 - val_loss: 0.5122 - val_mae: 0.5767\n",
      "Epoch 83/100\n",
      "337/337 [==============================] - 0s 80us/sample - loss: 0.3380 - mae: 0.4683 - val_loss: 0.4893 - val_mae: 0.5617\n",
      "Epoch 84/100\n",
      "337/337 [==============================] - 0s 77us/sample - loss: 0.3025 - mae: 0.4292 - val_loss: 0.5198 - val_mae: 0.5713\n",
      "Epoch 85/100\n",
      "337/337 [==============================] - 0s 82us/sample - loss: 0.3406 - mae: 0.4642 - val_loss: 0.5185 - val_mae: 0.5809\n",
      "Epoch 86/100\n",
      "337/337 [==============================] - 0s 80us/sample - loss: 0.3250 - mae: 0.4566 - val_loss: 0.5317 - val_mae: 0.5718\n",
      "Epoch 87/100\n",
      "337/337 [==============================] - 0s 79us/sample - loss: 0.3110 - mae: 0.4372 - val_loss: 0.5600 - val_mae: 0.5964\n",
      "Epoch 88/100\n",
      "337/337 [==============================] - 0s 81us/sample - loss: 0.3289 - mae: 0.4535 - val_loss: 0.5874 - val_mae: 0.6194\n",
      "Epoch 89/100\n",
      "337/337 [==============================] - 0s 83us/sample - loss: 0.3144 - mae: 0.4489 - val_loss: 0.5343 - val_mae: 0.5890\n",
      "Epoch 90/100\n",
      "337/337 [==============================] - 0s 77us/sample - loss: 0.3004 - mae: 0.4410 - val_loss: 0.5281 - val_mae: 0.5871\n",
      "Epoch 91/100\n",
      "337/337 [==============================] - 0s 78us/sample - loss: 0.3007 - mae: 0.4333 - val_loss: 0.5511 - val_mae: 0.5727\n",
      "Epoch 92/100\n",
      "337/337 [==============================] - 0s 80us/sample - loss: 0.3241 - mae: 0.4405 - val_loss: 0.5696 - val_mae: 0.6077\n",
      "Epoch 93/100\n",
      "337/337 [==============================] - 0s 78us/sample - loss: 0.2965 - mae: 0.4322 - val_loss: 0.5061 - val_mae: 0.5509\n",
      "Epoch 94/100\n",
      "337/337 [==============================] - 0s 79us/sample - loss: 0.3136 - mae: 0.4479 - val_loss: 0.4905 - val_mae: 0.5452\n",
      "Epoch 95/100\n",
      "337/337 [==============================] - 0s 77us/sample - loss: 0.3380 - mae: 0.4597 - val_loss: 0.5155 - val_mae: 0.5825\n",
      "Epoch 96/100\n",
      "337/337 [==============================] - 0s 80us/sample - loss: 0.3035 - mae: 0.4425 - val_loss: 0.5242 - val_mae: 0.5816\n",
      "Epoch 97/100\n",
      "337/337 [==============================] - 0s 86us/sample - loss: 0.3221 - mae: 0.4531 - val_loss: 0.5133 - val_mae: 0.5716\n",
      "Epoch 98/100\n",
      "337/337 [==============================] - 0s 79us/sample - loss: 0.3093 - mae: 0.4373 - val_loss: 0.5035 - val_mae: 0.5690\n",
      "Epoch 99/100\n",
      "337/337 [==============================] - 0s 83us/sample - loss: 0.3174 - mae: 0.4424 - val_loss: 0.5194 - val_mae: 0.5817\n",
      "Epoch 100/100\n",
      "337/337 [==============================] - 0s 81us/sample - loss: 0.2810 - mae: 0.4285 - val_loss: 0.5699 - val_mae: 0.5818\n"
     ]
    }
   ],
   "source": [
    "# Train the model, exaclty as before\n",
    "\n",
    "history = regularized_model.fit(train_data, train_targets, epochs=100, validation_split=0.15,)\n"
   ]
  },
  {
   "cell_type": "code",
   "execution_count": 23,
   "metadata": {},
   "outputs": [
    {
     "name": "stdout",
     "output_type": "stream",
     "text": [
      "45/45 - 0s - loss: 0.9188 - mae: 0.7581\n"
     ]
    },
    {
     "data": {
      "text/plain": [
       "[0.9187525934643216, 0.7581359]"
      ]
     },
     "execution_count": 23,
     "metadata": {},
     "output_type": "execute_result"
    }
   ],
   "source": [
    "#Evaluate the model\n",
    "regularized_model.evaluate(test_data, test_targets, verbose=2)"
   ]
  },
  {
   "cell_type": "code",
   "execution_count": 24,
   "metadata": {},
   "outputs": [
    {
     "data": {
      "image/png": "[encoded data removed]",
      "text/plain": [
       "<Figure size 432x288 with 1 Axes>"
      ]
     },
     "metadata": {
      "needs_background": "light"
     },
     "output_type": "display_data"
    }
   ],
   "source": [
    "#Plot the training and validation data\n",
    "import matplotlib.pyplot as plt\n",
    "\n",
    "plt.plot(history.history['loss'])\n",
    "plt.plot(history.history['val_loss'])\n",
    "plt.title('Loss vs. epochs')\n",
    "plt.ylabel('Loss')\n",
    "plt.xlabel('Epoch')\n",
    "plt.legend(['Training', 'Validation'], loc='upper right')\n",
    "plt.show()"
   ]
  },
  {
   "cell_type": "markdown",
   "metadata": {},
   "source": [
    "## Regularization with early stopping\n",
    "\n",
    "We could also regularized with early stopping. Train the (unregularized) model with early stopping. Compare the results of the early stopping model with the regularized model."
   ]
  },
  {
   "cell_type": "code",
   "execution_count": 20,
   "metadata": {},
   "outputs": [],
   "source": [
    "# Re-train the unregularised model with early stopping (use patience=2) and use the same settings as before\n",
    "from tensorflow.keras.callbacks import EarlyStopping\n",
    "early_stopping_model = get_model()\n",
    "early_stopping_model.compile(optimizer=\"adam\", loss=\"mse\")\n",
    "early_stopping_history = early_stopping_model.fit(train_data, train_targets, epochs=100, validation_split=0.15, batch_size=64, verbose=False, callbacks=[EarlyStopping(patience=2)])\n"
   ]
  },
  {
   "cell_type": "code",
   "execution_count": 21,
   "metadata": {},
   "outputs": [
    {
     "name": "stdout",
     "output_type": "stream",
     "text": [
      "45/45 - 0s - loss: 0.7871\n",
      "0.7870900299814012\n"
     ]
    }
   ],
   "source": [
    "# Evaluate the model on the test set\n",
    "print(early_stopping_model.evaluate(test_data, test_targets, verbose=2))\n"
   ]
  },
  {
   "cell_type": "code",
   "execution_count": 25,
   "metadata": {},
   "outputs": [
    {
     "data": {
      "image/png": "[encoded data removed]",
      "text/plain": [
       "<Figure size 864x360 with 2 Axes>"
      ]
     },
     "metadata": {
      "needs_background": "light"
     },
     "output_type": "display_data"
    }
   ],
   "source": [
    "#Plot the regression curves for both\n",
    "# Plot the training and validation loss for the early stopping model and the regularised model. \n",
    "\n",
    "import matplotlib.pyplot as plt\n",
    "\n",
    "fig = plt.figure(figsize=(12, 5))\n",
    "\n",
    "fig.add_subplot(121)\n",
    "\n",
    "plt.plot(early_stopping_history.history['loss'])\n",
    "plt.plot(early_stopping_history.history['val_loss'])\n",
    "plt.title('Early stopping model: loss vs. epochs')\n",
    "plt.ylabel('Loss')\n",
    "plt.xlabel('Epoch')\n",
    "plt.legend(['Training', 'Validation'], loc='upper right')\n",
    "\n",
    "fig.add_subplot(122)\n",
    "\n",
    "plt.plot(history.history['loss'])\n",
    "plt.plot(history.history['val_loss'])\n",
    "plt.title('Regularised model: loss vs. epochs')\n",
    "plt.ylabel('Loss')\n",
    "plt.xlabel('Epoch')\n",
    "plt.legend(['Training', 'Validation'], loc='upper right')\n",
    "\n",
    "plt.show()"
   ]
  },
  {
   "cell_type": "code",
   "execution_count": null,
   "metadata": {},
   "outputs": [],
   "source": []
  }
 ],
 "metadata": {
  "kernelspec": {
   "display_name": "Python 3",
   "language": "python",
   "name": "python3"
  },
  "language_info": {
   "codemirror_mode": {
    "name": "ipython",
    "version": 3
   },
   "file_extension": ".py",
   "mimetype": "text/x-python",
   "name": "python",
   "nbconvert_exporter": "python",
   "pygments_lexer": "ipython3",
   "version": "3.7.7"
  }
 },
 "nbformat": 4,
 "nbformat_minor": 4
}
