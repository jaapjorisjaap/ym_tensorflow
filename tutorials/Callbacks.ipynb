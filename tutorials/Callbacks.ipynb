{
 "cells": [
  {
   "cell_type": "markdown",
   "metadata": {},
   "source": [
    "## Callbacks\n",
    "\n",
    "In this tutorial we will look at callbacks, and how they can be used. For all callbacks and how to extend those see:\n",
    "\n",
    "https://www.tensorflow.org/api_docs/python/tf/keras/callbacks\n"
   ]
  },
  {
   "cell_type": "code",
   "execution_count": 2,
   "metadata": {},
   "outputs": [],
   "source": [
    "# TensorFlow and tf.keras\n",
    "import tensorflow as tf\n",
    "from tensorflow import keras\n",
    "\n",
    "# Helper libraries\n",
    "import numpy as np\n",
    "import matplotlib.pyplot as plt\n",
    "\n"
   ]
  },
  {
   "cell_type": "code",
   "execution_count": 3,
   "metadata": {},
   "outputs": [],
   "source": [
    "#Loading the dataset\n",
    "mnist = keras.datasets.mnist\n",
    "(train_images, train_labels), (test_images, test_labels) = mnist.load_data()"
   ]
  },
  {
   "cell_type": "code",
   "execution_count": 4,
   "metadata": {},
   "outputs": [],
   "source": [
    "# Create a DNN\n",
    "def get_dnn_model():\n",
    "    model = keras.Sequential([\n",
    "       \n",
    "        keras.layers.Flatten(input_shape=(28,28)), #Always use input_shape in your first layer (Makes debugging easier)\n",
    "        keras.layers.Dense(128, activation='relu'),\n",
    "        keras.layers.Dense(10, activation='softmax'),\n",
    "    ])\n",
    "    return model\n",
    "\n",
    "dnn_model = get_dnn_model()\n"
   ]
  },
  {
   "cell_type": "code",
   "execution_count": 5,
   "metadata": {},
   "outputs": [
    {
     "name": "stdout",
     "output_type": "stream",
     "text": [
      "Model: \"sequential\"\n",
      "_________________________________________________________________\n",
      "Layer (type)                 Output Shape              Param #   \n",
      "=================================================================\n",
      "flatten (Flatten)            (None, 784)               0         \n",
      "_________________________________________________________________\n",
      "dense (Dense)                (None, 128)               100480    \n",
      "_________________________________________________________________\n",
      "dense_1 (Dense)              (None, 10)                1290      \n",
      "=================================================================\n",
      "Total params: 101,770\n",
      "Trainable params: 101,770\n",
      "Non-trainable params: 0\n",
      "_________________________________________________________________\n"
     ]
    }
   ],
   "source": [
    "#Compile\n",
    "dnn_model.compile(optimizer='adam',\n",
    "              loss=tf.keras.losses.SparseCategoricalCrossentropy(),\n",
    "              metrics=['accuracy']) #Can add more (or custom) e.g.: MSE\n",
    "dnn_model.summary()"
   ]
  },
  {
   "cell_type": "code",
   "execution_count": 6,
   "metadata": {},
   "outputs": [
    {
     "name": "stdout",
     "output_type": "stream",
     "text": [
      "Train on 60000 samples, validate on 10000 samples\n",
      "Epoch 1/20\n",
      "60000/60000 [==============================] - 3s 45us/sample - loss: 2.5186 - accuracy: 0.8586 - val_loss: 0.4990 - val_accuracy: 0.8984\n",
      "Epoch 2/20\n",
      "60000/60000 [==============================] - 2s 38us/sample - loss: 0.3644 - accuracy: 0.9127 - val_loss: 0.3391 - val_accuracy: 0.9222\n",
      "Epoch 3/20\n",
      "60000/60000 [==============================] - 2s 39us/sample - loss: 0.2794 - accuracy: 0.9294 - val_loss: 0.3156 - val_accuracy: 0.9309\n",
      "Epoch 4/20\n",
      "60000/60000 [==============================] - 2s 39us/sample - loss: 0.2518 - accuracy: 0.9367 - val_loss: 0.2677 - val_accuracy: 0.9339\n",
      "Epoch 5/20\n",
      "60000/60000 [==============================] - 2s 39us/sample - loss: 0.2311 - accuracy: 0.9420 - val_loss: 0.2627 - val_accuracy: 0.9384\n",
      "Epoch 6/20\n",
      "60000/60000 [==============================] - 2s 40us/sample - loss: 0.2173 - accuracy: 0.9456 - val_loss: 0.2443 - val_accuracy: 0.9465\n",
      "Epoch 7/20\n",
      "60000/60000 [==============================] - 2s 40us/sample - loss: 0.2035 - accuracy: 0.9489 - val_loss: 0.3175 - val_accuracy: 0.9425\n",
      "Epoch 8/20\n",
      "60000/60000 [==============================] - 2s 39us/sample - loss: 0.1958 - accuracy: 0.9517 - val_loss: 0.2533 - val_accuracy: 0.9390\n",
      "Epoch 9/20\n",
      "60000/60000 [==============================] - 2s 39us/sample - loss: 0.1911 - accuracy: 0.9531 - val_loss: 0.2580 - val_accuracy: 0.9461\n",
      "Epoch 10/20\n",
      "60000/60000 [==============================] - 2s 39us/sample - loss: 0.1819 - accuracy: 0.9549 - val_loss: 0.2735 - val_accuracy: 0.9442\n",
      "Epoch 11/20\n",
      "60000/60000 [==============================] - 2s 39us/sample - loss: 0.1745 - accuracy: 0.9563 - val_loss: 0.3177 - val_accuracy: 0.9355\n",
      "Epoch 12/20\n",
      "60000/60000 [==============================] - 2s 39us/sample - loss: 0.1766 - accuracy: 0.9567 - val_loss: 0.2825 - val_accuracy: 0.9475\n",
      "Epoch 13/20\n",
      "60000/60000 [==============================] - 2s 39us/sample - loss: 0.1723 - accuracy: 0.9582 - val_loss: 0.2571 - val_accuracy: 0.9485\n",
      "Epoch 14/20\n",
      "60000/60000 [==============================] - 2s 38us/sample - loss: 0.1702 - accuracy: 0.9586 - val_loss: 0.2515 - val_accuracy: 0.9480\n",
      "Epoch 15/20\n",
      "60000/60000 [==============================] - 2s 38us/sample - loss: 0.1626 - accuracy: 0.9601 - val_loss: 0.3830 - val_accuracy: 0.9379\n",
      "Epoch 16/20\n",
      "60000/60000 [==============================] - 2s 38us/sample - loss: 0.1688 - accuracy: 0.9597 - val_loss: 0.2926 - val_accuracy: 0.9481\n",
      "Epoch 17/20\n",
      "60000/60000 [==============================] - 2s 39us/sample - loss: 0.1620 - accuracy: 0.9596 - val_loss: 0.3313 - val_accuracy: 0.9497\n",
      "Epoch 18/20\n",
      "60000/60000 [==============================] - 2s 39us/sample - loss: 0.1538 - accuracy: 0.9621 - val_loss: 0.2964 - val_accuracy: 0.9517\n",
      "Epoch 19/20\n",
      "60000/60000 [==============================] - 2s 39us/sample - loss: 0.1589 - accuracy: 0.9618 - val_loss: 0.3428 - val_accuracy: 0.9513\n",
      "Epoch 20/20\n",
      "60000/60000 [==============================] - 2s 41us/sample - loss: 0.1616 - accuracy: 0.9619 - val_loss: 0.6007 - val_accuracy: 0.9450\n"
     ]
    }
   ],
   "source": [
    "# Train the model\n",
    "history = dnn_model.fit(train_images, train_labels, batch_size=32, epochs=20, validation_data=(test_images, test_labels) )"
   ]
  },
  {
   "cell_type": "code",
   "execution_count": 7,
   "metadata": {},
   "outputs": [
    {
     "data": {
      "image/png": "[encoded data removed]",
      "text/plain": [
       "<Figure size 432x288 with 1 Axes>"
      ]
     },
     "metadata": {
      "needs_background": "light"
     },
     "output_type": "display_data"
    }
   ],
   "source": [
    "# Plot the training and validation loss\n",
    "\n",
    "plt.plot(history.history['loss'])\n",
    "plt.plot(history.history['val_loss'])\n",
    "plt.title('Loss vs. epochs')\n",
    "plt.ylabel('Loss')\n",
    "plt.xlabel('Epoch')\n",
    "plt.legend(['Training', 'Validation'], loc='upper right')\n",
    "plt.show()"
   ]
  },
  {
   "cell_type": "markdown",
   "metadata": {},
   "source": [
    "# Early stopping\n",
    "\n",
    "The model does not much improve after about 8 epochs (and maybe even gets worse)\n",
    "So we want to stop early. \n",
    "\n",
    "We have callbacks for this!\n"
   ]
  },
  {
   "cell_type": "code",
   "execution_count": 8,
   "metadata": {},
   "outputs": [
    {
     "name": "stdout",
     "output_type": "stream",
     "text": [
      "Train on 60000 samples, validate on 10000 samples\n",
      "Epoch 1/20\n",
      "60000/60000 [==============================] - 3s 45us/sample - loss: 2.2993 - accuracy: 0.8526 - val_loss: 0.5033 - val_accuracy: 0.8756\n",
      "Epoch 2/20\n",
      "60000/60000 [==============================] - 2s 40us/sample - loss: 0.3559 - accuracy: 0.9121 - val_loss: 0.2973 - val_accuracy: 0.9264\n",
      "Epoch 3/20\n",
      "60000/60000 [==============================] - 3s 45us/sample - loss: 0.2614 - accuracy: 0.9317 - val_loss: 0.3181 - val_accuracy: 0.9248\n",
      "Epoch 4/20\n",
      "60000/60000 [==============================] - 2s 41us/sample - loss: 0.2264 - accuracy: 0.9405 - val_loss: 0.2512 - val_accuracy: 0.9385\n",
      "Epoch 5/20\n",
      "60000/60000 [==============================] - 3s 43us/sample - loss: 0.2208 - accuracy: 0.9441 - val_loss: 0.2613 - val_accuracy: 0.9389\n",
      "Epoch 6/20\n",
      "60000/60000 [==============================] - 3s 45us/sample - loss: 0.2049 - accuracy: 0.9472 - val_loss: 0.2912 - val_accuracy: 0.9360\n"
     ]
    }
   ],
   "source": [
    "from tensorflow.keras.callbacks import EarlyStopping\n",
    "\n",
    "dnn_model = get_dnn_model()\n",
    "dnn_model.compile(optimizer='adam',\n",
    "              loss=tf.keras.losses.SparseCategoricalCrossentropy(),\n",
    "              metrics=['accuracy']) #Can add more (or custom) e.g.: MSE\n",
    "\n",
    "history = dnn_model.fit(train_images, train_labels, batch_size=32, epochs=20, validation_data=(test_images, test_labels), callbacks=[\n",
    "     EarlyStopping(patience=2)\n",
    "] ) # We get the history back"
   ]
  },
  {
   "cell_type": "code",
   "execution_count": 9,
   "metadata": {},
   "outputs": [
    {
     "data": {
      "image/png": "[encoded data removed]",
      "text/plain": [
       "<Figure size 432x288 with 1 Axes>"
      ]
     },
     "metadata": {
      "needs_background": "light"
     },
     "output_type": "display_data"
    }
   ],
   "source": [
    "# Plot the training and validation loss\n",
    "\n",
    "plt.plot(history.history['loss'])\n",
    "plt.plot(history.history['val_loss'])\n",
    "plt.title('Loss vs. epochs')\n",
    "plt.ylabel('Loss')\n",
    "plt.xlabel('Epoch')\n",
    "plt.legend(['Training', 'Validation'], loc='upper right')\n",
    "plt.show()"
   ]
  },
  {
   "cell_type": "markdown",
   "metadata": {},
   "source": [
    "## Saving the models\n",
    "\n",
    "Another callback is the saving models callback. This is used for saving models, handy to use in long training sequences to make sure that you have a backup of your model\n"
   ]
  },
  {
   "cell_type": "code",
   "execution_count": 10,
   "metadata": {},
   "outputs": [
    {
     "name": "stdout",
     "output_type": "stream",
     "text": [
      "Train on 60000 samples, validate on 10000 samples\n",
      "Epoch 1/10\n",
      "59232/60000 [============================>.] - ETA: 0s - loss: 2.7088 - accuracy: 0.8592\n",
      "Epoch 00001: saving model to model_checkpoint\\checkpoint_01\n",
      "60000/60000 [==============================] - 3s 48us/sample - loss: 2.6819 - accuracy: 0.8593 - val_loss: 0.5164 - val_accuracy: 0.8869\n",
      "Epoch 2/10\n",
      "59776/60000 [============================>.] - ETA: 0s - loss: 0.4093 - accuracy: 0.9046\n",
      "Epoch 00002: saving model to model_checkpoint\\checkpoint_02\n",
      "60000/60000 [==============================] - 2s 41us/sample - loss: 0.4087 - accuracy: 0.9046 - val_loss: 0.3720 - val_accuracy: 0.9209\n",
      "Epoch 3/10\n",
      "59168/60000 [============================>.] - ETA: 0s - loss: 0.3131 - accuracy: 0.9222\n",
      "Epoch 00003: saving model to model_checkpoint\\checkpoint_03\n",
      "60000/60000 [==============================] - 2s 40us/sample - loss: 0.3147 - accuracy: 0.9222 - val_loss: 0.3248 - val_accuracy: 0.9284\n",
      "Epoch 4/10\n",
      "58912/60000 [============================>.] - ETA: 0s - loss: 0.2693 - accuracy: 0.9326\n",
      "Epoch 00004: saving model to model_checkpoint\\checkpoint_04\n",
      "60000/60000 [==============================] - 2s 40us/sample - loss: 0.2700 - accuracy: 0.9325 - val_loss: 0.3233 - val_accuracy: 0.9243\n",
      "Epoch 5/10\n",
      "59168/60000 [============================>.] - ETA: 0s - loss: 0.2393 - accuracy: 0.9410\n",
      "Epoch 00005: saving model to model_checkpoint\\checkpoint_05\n",
      "60000/60000 [==============================] - 2s 39us/sample - loss: 0.2395 - accuracy: 0.9409 - val_loss: 0.2971 - val_accuracy: 0.9363\n",
      "Epoch 6/10\n",
      "58880/60000 [============================>.] - ETA: 0s - loss: 0.2207 - accuracy: 0.9455\n",
      "Epoch 00006: saving model to model_checkpoint\\checkpoint_06\n",
      "60000/60000 [==============================] - 2s 39us/sample - loss: 0.2208 - accuracy: 0.9455 - val_loss: 0.2701 - val_accuracy: 0.9382\n",
      "Epoch 7/10\n",
      "59616/60000 [============================>.] - ETA: 0s - loss: 0.2047 - accuracy: 0.9481\n",
      "Epoch 00007: saving model to model_checkpoint\\checkpoint_07\n",
      "60000/60000 [==============================] - 2s 40us/sample - loss: 0.2053 - accuracy: 0.9482 - val_loss: 0.2786 - val_accuracy: 0.9376\n",
      "Epoch 8/10\n",
      "58784/60000 [============================>.] - ETA: 0s - loss: 0.2023 - accuracy: 0.9496\n",
      "Epoch 00008: saving model to model_checkpoint\\checkpoint_08\n",
      "60000/60000 [==============================] - 2s 41us/sample - loss: 0.2017 - accuracy: 0.9497 - val_loss: 0.2863 - val_accuracy: 0.9413\n",
      "Epoch 9/10\n",
      "58624/60000 [============================>.] - ETA: 0s - loss: 0.1917 - accuracy: 0.9519\n",
      "Epoch 00009: saving model to model_checkpoint\\checkpoint_09\n",
      "60000/60000 [==============================] - 2s 41us/sample - loss: 0.1914 - accuracy: 0.9520 - val_loss: 0.2528 - val_accuracy: 0.9398\n",
      "Epoch 10/10\n",
      "59296/60000 [============================>.] - ETA: 0s - loss: 0.1846 - accuracy: 0.9535\n",
      "Epoch 00010: saving model to model_checkpoint\\checkpoint_10\n",
      "60000/60000 [==============================] - 2s 41us/sample - loss: 0.1844 - accuracy: 0.9535 - val_loss: 0.2974 - val_accuracy: 0.9414\n"
     ]
    }
   ],
   "source": [
    "from tensorflow.keras.callbacks import ModelCheckpoint\n",
    "\n",
    "dnn_model = get_dnn_model()\n",
    "dnn_model.compile(optimizer='adam',\n",
    "              loss=tf.keras.losses.SparseCategoricalCrossentropy(),\n",
    "              metrics=['accuracy']) #Can add more (or custom) e.g.: MSE\n",
    "\n",
    "checkpoint_path = 'model_checkpoint\\checkpoint_{epoch:02d}' \n",
    "checkpoint_callback = ModelCheckpoint(\n",
    "                        filepath=checkpoint_path,\n",
    "                        save_freq='epoch', #How often you want to save\n",
    "                        verbose=1,\n",
    "                        save_weights_only=True #Can be set to False (default) if you only want to save the weights and not the architecture\n",
    "                    )\n",
    "\n",
    "history = dnn_model.fit(train_images, train_labels, batch_size=32, epochs=10, validation_data=(test_images, test_labels), callbacks=[\n",
    "     checkpoint_callback\n",
    "] ) # We get the history back"
   ]
  },
  {
   "cell_type": "code",
   "execution_count": 11,
   "metadata": {},
   "outputs": [
    {
     "name": "stdout",
     "output_type": "stream",
     "text": [
      "10000/10000 [==============================] - 0s 33us/sample - loss: 0.2974 - accuracy: 0.9414\n"
     ]
    },
    {
     "data": {
      "text/plain": [
       "[0.2973770836174488, 0.9414]"
      ]
     },
     "execution_count": 11,
     "metadata": {},
     "output_type": "execute_result"
    }
   ],
   "source": [
    "dnn_model.evaluate(test_images, test_labels)"
   ]
  },
  {
   "cell_type": "code",
   "execution_count": 16,
   "metadata": {},
   "outputs": [],
   "source": [
    "#Load the model\n",
    "\n",
    "loaded_dnn_model = get_dnn_model()\n",
    "loaded_dnn_model.load_weights(\"model_checkpoint\\checkpoint_10\")\n",
    "loaded_dnn_model.compile(optimizer='adam',\n",
    "              loss=tf.keras.losses.SparseCategoricalCrossentropy(),\n",
    "              metrics=['accuracy']) #Can add more (or custom) e.g.: MSE\n"
   ]
  },
  {
   "cell_type": "code",
   "execution_count": 17,
   "metadata": {},
   "outputs": [
    {
     "name": "stdout",
     "output_type": "stream",
     "text": [
      "10000/10000 [==============================] - 0s 38us/sample - loss: 0.2974 - accuracy: 0.9414\n"
     ]
    },
    {
     "data": {
      "text/plain": [
       "[0.2973770836174488, 0.9414]"
      ]
     },
     "execution_count": 17,
     "metadata": {},
     "output_type": "execute_result"
    }
   ],
   "source": [
    "loaded_dnn_model.evaluate(test_images, test_labels)"
   ]
  },
  {
   "cell_type": "code",
   "execution_count": 18,
   "metadata": {},
   "outputs": [
    {
     "data": {
      "text/plain": [
       "<tensorflow.python.keras.losses.SparseCategoricalCrossentropy at 0x1cf011be588>"
      ]
     },
     "execution_count": 18,
     "metadata": {},
     "output_type": "execute_result"
    }
   ],
   "source": [
    "loaded_dnn_model.loss"
   ]
  },
  {
   "cell_type": "markdown",
   "metadata": {},
   "source": [
    "## Saving the whole model\n",
    "\n",
    "We can also save the whole model"
   ]
  },
  {
   "cell_type": "code",
   "execution_count": 19,
   "metadata": {},
   "outputs": [
    {
     "name": "stdout",
     "output_type": "stream",
     "text": [
      "Train on 60000 samples, validate on 10000 samples\n",
      "Epoch 1/10\n",
      "59872/60000 [============================>.] - ETA: 0s - loss: 2.7876 - accuracy: 0.8597\n",
      "Epoch 00001: val_accuracy improved from -inf to 0.88240, saving model to best_model_checkpoint\n",
      "WARNING:tensorflow:From C:\\Users\\gerso\\anaconda3\\envs\\tensorflow\\lib\\site-packages\\tensorflow_core\\python\\ops\\resource_variable_ops.py:1786: calling BaseResourceVariable.__init__ (from tensorflow.python.ops.resource_variable_ops) with constraint is deprecated and will be removed in a future version.\n",
      "Instructions for updating:\n",
      "If using Keras pass *_constraint arguments to layers.\n",
      "INFO:tensorflow:Assets written to: best_model_checkpoint\\assets\n",
      "60000/60000 [==============================] - 3s 53us/sample - loss: 2.7825 - accuracy: 0.8598 - val_loss: 0.5637 - val_accuracy: 0.8824\n",
      "Epoch 2/10\n",
      "59488/60000 [============================>.] - ETA: 0s - loss: 0.3771 - accuracy: 0.9108\n",
      "Epoch 00002: val_accuracy improved from 0.88240 to 0.90600, saving model to best_model_checkpoint\n",
      "INFO:tensorflow:Assets written to: best_model_checkpoint\\assets\n",
      "60000/60000 [==============================] - 3s 48us/sample - loss: 0.3759 - accuracy: 0.9111 - val_loss: 0.3774 - val_accuracy: 0.9060\n",
      "Epoch 3/10\n",
      "59168/60000 [============================>.] - ETA: 0s - loss: 0.2802 - accuracy: 0.9283\n",
      "Epoch 00003: val_accuracy improved from 0.90600 to 0.92820, saving model to best_model_checkpoint\n",
      "INFO:tensorflow:Assets written to: best_model_checkpoint\\assets\n",
      "60000/60000 [==============================] - 3s 47us/sample - loss: 0.2800 - accuracy: 0.9283 - val_loss: 0.3134 - val_accuracy: 0.9282\n",
      "Epoch 4/10\n",
      "58560/60000 [============================>.] - ETA: 0s - loss: 0.2481 - accuracy: 0.9351\n",
      "Epoch 00004: val_accuracy did not improve from 0.92820\n",
      "60000/60000 [==============================] - 2s 41us/sample - loss: 0.2478 - accuracy: 0.9352 - val_loss: 0.3029 - val_accuracy: 0.9281\n",
      "Epoch 5/10\n",
      "59648/60000 [============================>.] - ETA: 0s - loss: 0.2296 - accuracy: 0.9422\n",
      "Epoch 00005: val_accuracy improved from 0.92820 to 0.94590, saving model to best_model_checkpoint\n",
      "INFO:tensorflow:Assets written to: best_model_checkpoint\\assets\n",
      "60000/60000 [==============================] - 3s 48us/sample - loss: 0.2293 - accuracy: 0.9423 - val_loss: 0.2996 - val_accuracy: 0.9459\n",
      "Epoch 6/10\n",
      "58784/60000 [============================>.] - ETA: 0s - loss: 0.2223 - accuracy: 0.9461\n",
      "Epoch 00006: val_accuracy did not improve from 0.94590\n",
      "60000/60000 [==============================] - 2s 40us/sample - loss: 0.2227 - accuracy: 0.9459 - val_loss: 0.2952 - val_accuracy: 0.9360\n",
      "Epoch 7/10\n",
      "59008/60000 [============================>.] - ETA: 0s - loss: 0.2083 - accuracy: 0.9490\n",
      "Epoch 00007: val_accuracy did not improve from 0.94590\n",
      "60000/60000 [==============================] - 2s 39us/sample - loss: 0.2083 - accuracy: 0.9491 - val_loss: 0.3560 - val_accuracy: 0.9347\n",
      "Epoch 8/10\n",
      "58560/60000 [============================>.] - ETA: 0s - loss: 0.2023 - accuracy: 0.9503\n",
      "Epoch 00008: val_accuracy did not improve from 0.94590\n",
      "60000/60000 [==============================] - 2s 40us/sample - loss: 0.2020 - accuracy: 0.9506 - val_loss: 0.2754 - val_accuracy: 0.9456\n",
      "Epoch 9/10\n",
      "58464/60000 [============================>.] - ETA: 0s - loss: 0.2025 - accuracy: 0.9513\n",
      "Epoch 00009: val_accuracy did not improve from 0.94590\n",
      "60000/60000 [==============================] - 2s 39us/sample - loss: 0.2037 - accuracy: 0.9511 - val_loss: 0.2825 - val_accuracy: 0.9430\n",
      "Epoch 10/10\n",
      "59392/60000 [============================>.] - ETA: 0s - loss: 0.1858 - accuracy: 0.9543\n",
      "Epoch 00010: val_accuracy improved from 0.94590 to 0.94710, saving model to best_model_checkpoint\n",
      "INFO:tensorflow:Assets written to: best_model_checkpoint\\assets\n",
      "60000/60000 [==============================] - 3s 46us/sample - loss: 0.1859 - accuracy: 0.9543 - val_loss: 0.3185 - val_accuracy: 0.9471\n"
     ]
    }
   ],
   "source": [
    "# Set everything up\n",
    "from tensorflow.keras.callbacks import ModelCheckpoint\n",
    "\n",
    "dnn_model = get_dnn_model()\n",
    "dnn_model.compile(optimizer='adam',\n",
    "              loss=tf.keras.losses.SparseCategoricalCrossentropy(),\n",
    "              metrics=['accuracy']) #Can add more (or custom) e.g.: MSE\n",
    "\n",
    "best_checkpoint_path = 'best_model_checkpoint' \n",
    "best_checkpoint_callback = ModelCheckpoint(\n",
    "                        filepath=best_checkpoint_path,\n",
    "                        save_freq='epoch', #How often you want to save\n",
    "                        save_best_only=True,\n",
    "                        monitor='val_accuracy',\n",
    "                        verbose=1,\n",
    "                        save_weights_only=False #Can be set to False (default) if you only want to save the weights and not the architecture\n",
    "                    )\n",
    "\n",
    "history = dnn_model.fit(train_images, train_labels, batch_size=32, epochs=10, validation_data=(test_images, test_labels), callbacks=[\n",
    "     best_checkpoint_callback\n",
    "] ) # We get the history back"
   ]
  },
  {
   "cell_type": "code",
   "execution_count": 24,
   "metadata": {},
   "outputs": [],
   "source": [
    "#use the load_model function\n",
    "from tensorflow.keras.models import load_model\n",
    "loaded_dnn_model = load_model(\"best_model_checkpoint\")"
   ]
  },
  {
   "cell_type": "code",
   "execution_count": 25,
   "metadata": {},
   "outputs": [
    {
     "name": "stdout",
     "output_type": "stream",
     "text": [
      "10000/10000 [==============================] - 0s 32us/sample - loss: 0.3185 - accuracy: 0.9471\n"
     ]
    },
    {
     "data": {
      "text/plain": [
       "[0.3184971558784833, 0.9471]"
      ]
     },
     "execution_count": 25,
     "metadata": {},
     "output_type": "execute_result"
    }
   ],
   "source": [
    "dnn_model.evaluate(test_images, test_labels)"
   ]
  },
  {
   "cell_type": "code",
   "execution_count": 26,
   "metadata": {},
   "outputs": [
    {
     "name": "stdout",
     "output_type": "stream",
     "text": [
      "10000/10000 [==============================] - 0s 39us/sample - loss: 0.2737 - accuracy: 0.9471\n"
     ]
    },
    {
     "data": {
      "text/plain": [
       "[0.27366726149489407, 0.9471]"
      ]
     },
     "execution_count": 26,
     "metadata": {},
     "output_type": "execute_result"
    }
   ],
   "source": [
    "loaded_dnn_model.evaluate(test_images, test_labels)"
   ]
  },
  {
   "cell_type": "code",
   "execution_count": null,
   "metadata": {},
   "outputs": [],
   "source": []
  }
 ],
 "metadata": {
  "kernelspec": {
   "display_name": "Python 3",
   "language": "python",
   "name": "python3"
  },
  "language_info": {
   "codemirror_mode": {
    "name": "ipython",
    "version": 3
   },
   "file_extension": ".py",
   "mimetype": "text/x-python",
   "name": "python",
   "nbconvert_exporter": "python",
   "pygments_lexer": "ipython3",
   "version": "3.7.7"
  }
 },
 "nbformat": 4,
 "nbformat_minor": 4
}
