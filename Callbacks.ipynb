{
 "cells": [
  {
   "cell_type": "markdown",
   "metadata": {},
   "source": [
    "## Callbacks and mnist"
   ]
  },
  {
   "cell_type": "code",
   "execution_count": 2,
   "metadata": {},
   "outputs": [],
   "source": [
    "# TensorFlow and tf.keras\n",
    "import tensorflow as tf\n",
    "from tensorflow import keras\n",
    "\n",
    "# Helper libraries\n",
    "import numpy as np\n",
    "import matplotlib.pyplot as plt\n",
    "\n"
   ]
  },
  {
   "cell_type": "code",
   "execution_count": 3,
   "metadata": {},
   "outputs": [],
   "source": [
    "#Loading the dataset\n",
    "mnist = keras.datasets.mnist\n",
    "(train_images, train_labels), (test_images, test_labels) = mnist.load_data()"
   ]
  },
  {
   "cell_type": "code",
   "execution_count": 6,
   "metadata": {},
   "outputs": [],
   "source": [
    "# Create a DNN\n",
    "def get_dnn_model():\n",
    "    model = keras.Sequential([\n",
    "       \n",
    "        keras.layers.Flatten(input_shape=(28,28)), #Always use input_shape in your first layer (Makes debugging easier)\n",
    "        keras.layers.Dense(128, activation='relu'),\n",
    "        keras.layers.Dense(10, activation='softmax'),\n",
    "    ])\n",
    "    return model\n",
    "\n",
    "dnn_model = get_dnn_model()\n"
   ]
  },
  {
   "cell_type": "code",
   "execution_count": 7,
   "metadata": {},
   "outputs": [
    {
     "name": "stdout",
     "output_type": "stream",
     "text": [
      "Model: \"sequential\"\n",
      "_________________________________________________________________\n",
      "Layer (type)                 Output Shape              Param #   \n",
      "=================================================================\n",
      "flatten (Flatten)            (None, 784)               0         \n",
      "_________________________________________________________________\n",
      "dense (Dense)                (None, 128)               100480    \n",
      "_________________________________________________________________\n",
      "dense_1 (Dense)              (None, 10)                1290      \n",
      "=================================================================\n",
      "Total params: 101,770\n",
      "Trainable params: 101,770\n",
      "Non-trainable params: 0\n",
      "_________________________________________________________________\n"
     ]
    }
   ],
   "source": [
    "#Compile\n",
    "dnn_model.compile(optimizer='adam',\n",
    "              loss=tf.keras.losses.SparseCategoricalCrossentropy(),\n",
    "              metrics=['accuracy']) #Can add more (or custom) e.g.: MSE\n",
    "dnn_model.summary()"
   ]
  },
  {
   "cell_type": "code",
   "execution_count": 8,
   "metadata": {},
   "outputs": [
    {
     "name": "stdout",
     "output_type": "stream",
     "text": [
      "Train on 60000 samples, validate on 10000 samples\n",
      "Epoch 1/20\n",
      "60000/60000 [==============================] - 2s 30us/sample - loss: 2.8575 - accuracy: 0.8628 - val_loss: 0.5511 - val_accuracy: 0.8718\n",
      "Epoch 2/20\n",
      "60000/60000 [==============================] - 2s 28us/sample - loss: 0.3880 - accuracy: 0.9108 - val_loss: 0.3615 - val_accuracy: 0.9150\n",
      "Epoch 3/20\n",
      "60000/60000 [==============================] - 2s 27us/sample - loss: 0.2758 - accuracy: 0.9303 - val_loss: 0.3018 - val_accuracy: 0.9287\n",
      "Epoch 4/20\n",
      "60000/60000 [==============================] - 2s 27us/sample - loss: 0.2496 - accuracy: 0.9373 - val_loss: 0.2537 - val_accuracy: 0.9419\n",
      "Epoch 5/20\n",
      "60000/60000 [==============================] - 2s 27us/sample - loss: 0.2350 - accuracy: 0.9410 - val_loss: 0.2659 - val_accuracy: 0.9355\n",
      "Epoch 6/20\n",
      "60000/60000 [==============================] - 2s 27us/sample - loss: 0.2112 - accuracy: 0.9468 - val_loss: 0.3033 - val_accuracy: 0.9382\n",
      "Epoch 7/20\n",
      "60000/60000 [==============================] - 2s 27us/sample - loss: 0.2033 - accuracy: 0.9497 - val_loss: 0.2598 - val_accuracy: 0.9466\n",
      "Epoch 8/20\n",
      "60000/60000 [==============================] - 2s 27us/sample - loss: 0.1920 - accuracy: 0.9526 - val_loss: 0.2401 - val_accuracy: 0.9436\n",
      "Epoch 9/20\n",
      "60000/60000 [==============================] - 2s 27us/sample - loss: 0.1832 - accuracy: 0.9548 - val_loss: 0.2630 - val_accuracy: 0.9519\n",
      "Epoch 10/20\n",
      "60000/60000 [==============================] - 2s 27us/sample - loss: 0.1786 - accuracy: 0.9562 - val_loss: 0.3112 - val_accuracy: 0.9475\n",
      "Epoch 11/20\n",
      "60000/60000 [==============================] - 2s 27us/sample - loss: 0.1877 - accuracy: 0.9564 - val_loss: 0.2820 - val_accuracy: 0.9415\n",
      "Epoch 12/20\n",
      "60000/60000 [==============================] - 2s 27us/sample - loss: 0.1717 - accuracy: 0.9582 - val_loss: 0.3088 - val_accuracy: 0.9486\n",
      "Epoch 13/20\n",
      "60000/60000 [==============================] - 2s 27us/sample - loss: 0.1666 - accuracy: 0.9608 - val_loss: 0.3462 - val_accuracy: 0.9466\n",
      "Epoch 14/20\n",
      "60000/60000 [==============================] - 2s 27us/sample - loss: 0.1613 - accuracy: 0.9614 - val_loss: 0.3022 - val_accuracy: 0.9484\n",
      "Epoch 15/20\n",
      "60000/60000 [==============================] - 2s 27us/sample - loss: 0.1732 - accuracy: 0.9605 - val_loss: 0.3446 - val_accuracy: 0.9521\n",
      "Epoch 16/20\n",
      "60000/60000 [==============================] - 2s 27us/sample - loss: 0.1577 - accuracy: 0.9628 - val_loss: 0.3263 - val_accuracy: 0.9520\n",
      "Epoch 17/20\n",
      "60000/60000 [==============================] - 2s 28us/sample - loss: 0.1513 - accuracy: 0.9646 - val_loss: 0.3569 - val_accuracy: 0.9462\n",
      "Epoch 18/20\n",
      "60000/60000 [==============================] - 2s 27us/sample - loss: 0.1499 - accuracy: 0.9652 - val_loss: 0.3515 - val_accuracy: 0.9470\n",
      "Epoch 19/20\n",
      "60000/60000 [==============================] - 2s 27us/sample - loss: 0.1599 - accuracy: 0.9639 - val_loss: 0.3894 - val_accuracy: 0.9506\n",
      "Epoch 20/20\n",
      "60000/60000 [==============================] - 2s 27us/sample - loss: 0.1486 - accuracy: 0.9655 - val_loss: 0.3182 - val_accuracy: 0.9533\n"
     ]
    }
   ],
   "source": [
    "# Train the model\n",
    "history = dnn_model.fit(train_images, train_labels, batch_size=32, epochs=20, validation_data=(test_images, test_labels) )"
   ]
  },
  {
   "cell_type": "code",
   "execution_count": 11,
   "metadata": {},
   "outputs": [
    {
     "data": {
      "image/png": "[encoded data removed]",
      "text/plain": [
       "<Figure size 432x288 with 1 Axes>"
      ]
     },
     "metadata": {
      "needs_background": "light"
     },
     "output_type": "display_data"
    }
   ],
   "source": [
    "# Plot the training and validation loss\n",
    "\n",
    "plt.plot(history.history['loss'])\n",
    "plt.plot(history.history['val_loss'])\n",
    "plt.title('Loss vs. epochs')\n",
    "plt.ylabel('Loss')\n",
    "plt.xlabel('Epoch')\n",
    "plt.legend(['Training', 'Validation'], loc='upper right')\n",
    "plt.show()"
   ]
  },
  {
   "cell_type": "markdown",
   "metadata": {},
   "source": [
    "# Early stopping\n",
    "\n",
    "The model does not much improve after about 8 epochs (and maybe even gets worse)\n",
    "So we want to stop early. \n",
    "\n",
    "We have callbacks for this!\n"
   ]
  },
  {
   "cell_type": "code",
   "execution_count": 14,
   "metadata": {},
   "outputs": [
    {
     "name": "stdout",
     "output_type": "stream",
     "text": [
      "Train on 60000 samples, validate on 10000 samples\n",
      "Epoch 1/20\n",
      "60000/60000 [==============================] - 2s 31us/sample - loss: 2.5855 - accuracy: 0.8650 - val_loss: 0.5289 - val_accuracy: 0.8874\n",
      "Epoch 2/20\n",
      "60000/60000 [==============================] - 2s 28us/sample - loss: 0.3847 - accuracy: 0.9119 - val_loss: 0.3701 - val_accuracy: 0.9085\n",
      "Epoch 3/20\n",
      "60000/60000 [==============================] - 2s 28us/sample - loss: 0.2907 - accuracy: 0.9283 - val_loss: 0.2869 - val_accuracy: 0.9274\n",
      "Epoch 4/20\n",
      "60000/60000 [==============================] - 2s 28us/sample - loss: 0.2508 - accuracy: 0.9370 - val_loss: 0.2474 - val_accuracy: 0.9417\n",
      "Epoch 5/20\n",
      "60000/60000 [==============================] - 2s 28us/sample - loss: 0.2392 - accuracy: 0.9427 - val_loss: 0.2809 - val_accuracy: 0.9361\n",
      "Epoch 6/20\n",
      "60000/60000 [==============================] - 2s 27us/sample - loss: 0.2094 - accuracy: 0.9482 - val_loss: 0.2135 - val_accuracy: 0.9431\n",
      "Epoch 7/20\n",
      "60000/60000 [==============================] - 2s 28us/sample - loss: 0.1977 - accuracy: 0.9516 - val_loss: 0.2504 - val_accuracy: 0.9495\n",
      "Epoch 8/20\n",
      "60000/60000 [==============================] - 2s 28us/sample - loss: 0.1847 - accuracy: 0.9557 - val_loss: 0.2979 - val_accuracy: 0.9475\n"
     ]
    }
   ],
   "source": [
    "from tensorflow.keras.callbacks import EarlyStopping\n",
    "\n",
    "dnn_model = get_dnn_model()\n",
    "dnn_model.compile(optimizer='adam',\n",
    "              loss=tf.keras.losses.SparseCategoricalCrossentropy(),\n",
    "              metrics=['accuracy']) #Can add more (or custom) e.g.: MSE\n",
    "\n",
    "history = dnn_model.fit(train_images, train_labels, batch_size=32, epochs=20, validation_data=(test_images, test_labels), callbacks=[\n",
    "     EarlyStopping(patience=2)\n",
    "] ) # We get the history back"
   ]
  },
  {
   "cell_type": "code",
   "execution_count": 15,
   "metadata": {},
   "outputs": [
    {
     "data": {
      "image/png": "[encoded data removed]",
      "text/plain": [
       "<Figure size 432x288 with 1 Axes>"
      ]
     },
     "metadata": {
      "needs_background": "light"
     },
     "output_type": "display_data"
    }
   ],
   "source": [
    "# Plot the training and validation loss\n",
    "\n",
    "plt.plot(history.history['loss'])\n",
    "plt.plot(history.history['val_loss'])\n",
    "plt.title('Loss vs. epochs')\n",
    "plt.ylabel('Loss')\n",
    "plt.xlabel('Epoch')\n",
    "plt.legend(['Training', 'Validation'], loc='upper right')\n",
    "plt.show()"
   ]
  },
  {
   "cell_type": "markdown",
   "metadata": {},
   "source": [
    "## Saving the models\n",
    "\n",
    "Another callback is the saving models callback. This is used for saving models, handy to use in long training sequences to make sure that you have a backup of your model\n"
   ]
  },
  {
   "cell_type": "code",
   "execution_count": 42,
   "metadata": {},
   "outputs": [
    {
     "name": "stdout",
     "output_type": "stream",
     "text": [
      "Train on 60000 samples, validate on 10000 samples\n",
      "Epoch 1/10\n",
      "59168/60000 [============================>.] - ETA: 0s - loss: 2.6349 - accuracy: 0.8636\n",
      "Epoch 00001: saving model to model_checkpoint\\checkpoint_01\n",
      "60000/60000 [==============================] - 2s 32us/sample - loss: 2.6054 - accuracy: 0.8639 - val_loss: 0.4962 - val_accuracy: 0.8888\n",
      "Epoch 2/10\n",
      "59328/60000 [============================>.] - ETA: 0s - loss: 0.3879 - accuracy: 0.9125\n",
      "Epoch 00002: saving model to model_checkpoint\\checkpoint_02\n",
      "60000/60000 [==============================] - 2s 29us/sample - loss: 0.3874 - accuracy: 0.9124 - val_loss: 0.3128 - val_accuracy: 0.9178\n",
      "Epoch 3/10\n",
      "58528/60000 [============================>.] - ETA: 0s - loss: 0.2821 - accuracy: 0.9268\n",
      "Epoch 00003: saving model to model_checkpoint\\checkpoint_03\n",
      "60000/60000 [==============================] - 2s 29us/sample - loss: 0.2820 - accuracy: 0.9268 - val_loss: 0.2871 - val_accuracy: 0.9270\n",
      "Epoch 4/10\n",
      "59296/60000 [============================>.] - ETA: 0s - loss: 0.2478 - accuracy: 0.9380\n",
      "Epoch 00004: saving model to model_checkpoint\\checkpoint_04\n",
      "60000/60000 [==============================] - 2s 29us/sample - loss: 0.2489 - accuracy: 0.9377 - val_loss: 0.2732 - val_accuracy: 0.9323\n",
      "Epoch 5/10\n",
      "59328/60000 [============================>.] - ETA: 0s - loss: 0.2257 - accuracy: 0.9426\n",
      "Epoch 00005: saving model to model_checkpoint\\checkpoint_05\n",
      "60000/60000 [==============================] - 2s 29us/sample - loss: 0.2255 - accuracy: 0.9426 - val_loss: 0.2401 - val_accuracy: 0.9430\n",
      "Epoch 6/10\n",
      "59616/60000 [============================>.] - ETA: 0s - loss: 0.2072 - accuracy: 0.9473\n",
      "Epoch 00006: saving model to model_checkpoint\\checkpoint_06\n",
      "60000/60000 [==============================] - 2s 29us/sample - loss: 0.2076 - accuracy: 0.9474 - val_loss: 0.2400 - val_accuracy: 0.9508\n",
      "Epoch 7/10\n",
      "58944/60000 [============================>.] - ETA: 0s - loss: 0.2011 - accuracy: 0.9490\n",
      "Epoch 00007: saving model to model_checkpoint\\checkpoint_07\n",
      "60000/60000 [==============================] - 2s 29us/sample - loss: 0.2005 - accuracy: 0.9492 - val_loss: 0.2420 - val_accuracy: 0.9515\n",
      "Epoch 8/10\n",
      "59424/60000 [============================>.] - ETA: 0s - loss: 0.1890 - accuracy: 0.9521\n",
      "Epoch 00008: saving model to model_checkpoint\\checkpoint_08\n",
      "60000/60000 [==============================] - 2s 29us/sample - loss: 0.1901 - accuracy: 0.9519 - val_loss: 0.3220 - val_accuracy: 0.9387\n",
      "Epoch 9/10\n",
      "58720/60000 [============================>.] - ETA: 0s - loss: 0.1957 - accuracy: 0.9525\n",
      "Epoch 00009: saving model to model_checkpoint\\checkpoint_09\n",
      "60000/60000 [==============================] - 2s 29us/sample - loss: 0.1954 - accuracy: 0.9527 - val_loss: 0.2650 - val_accuracy: 0.9517\n",
      "Epoch 10/10\n",
      "59648/60000 [============================>.] - ETA: 0s - loss: 0.1744 - accuracy: 0.9564\n",
      "Epoch 00010: saving model to model_checkpoint\\checkpoint_10\n",
      "60000/60000 [==============================] - 2s 30us/sample - loss: 0.1751 - accuracy: 0.9564 - val_loss: 0.2803 - val_accuracy: 0.9462\n"
     ]
    }
   ],
   "source": [
    "from tensorflow.keras.callbacks import ModelCheckpoint\n",
    "\n",
    "dnn_model = get_dnn_model()\n",
    "dnn_model.compile(optimizer='adam',\n",
    "              loss=tf.keras.losses.SparseCategoricalCrossentropy(),\n",
    "              metrics=['accuracy']) #Can add more (or custom) e.g.: MSE\n",
    "\n",
    "checkpoint_path = 'model_checkpoint\\checkpoint_{epoch:02d}' \n",
    "checkpoint_callback = ModelCheckpoint(\n",
    "                        filepath=checkpoint_path,\n",
    "                        save_freq='epoch', #How often you want to save\n",
    "                        verbose=1,\n",
    "                        save_weights_only=True #Can be set to False (default) if you only want to save the weights and not the architecture\n",
    "                    )\n",
    "\n",
    "history = dnn_model.fit(train_images, train_labels, batch_size=32, epochs=10, validation_data=(test_images, test_labels), callbacks=[\n",
    "     checkpoint_callback\n",
    "] ) # We get the history back"
   ]
  },
  {
   "cell_type": "code",
   "execution_count": 50,
   "metadata": {},
   "outputs": [
    {
     "name": "stdout",
     "output_type": "stream",
     "text": [
      "10000/10000 [==============================] - 0s 20us/sample - loss: 0.2803 - accuracy: 0.9462\n"
     ]
    },
    {
     "data": {
      "text/plain": [
       "[0.2802983830359444, 0.9462]"
      ]
     },
     "execution_count": 50,
     "metadata": {},
     "output_type": "execute_result"
    }
   ],
   "source": [
    "dnn_model.evaluate(test_images, test_labels)"
   ]
  },
  {
   "cell_type": "code",
   "execution_count": 51,
   "metadata": {},
   "outputs": [
    {
     "data": {
      "text/plain": [
       "<tensorflow.python.training.tracking.util.CheckpointLoadStatus at 0x134ebd2fe88>"
      ]
     },
     "execution_count": 51,
     "metadata": {},
     "output_type": "execute_result"
    }
   ],
   "source": [
    "#Load the model\n",
    "from tensorflow.keras.models import load_model\n",
    "loaded_dnn_model = get_dnn_model()\n",
    "loaded_dnn_model.load_weights(\"model_checkpoint\\checkpoint_10\")\n"
   ]
  },
  {
   "cell_type": "code",
   "execution_count": 52,
   "metadata": {},
   "outputs": [
    {
     "name": "stdout",
     "output_type": "stream",
     "text": [
      "10000/10000 [==============================] - 0s 20us/sample - loss: 0.2803 - accuracy: 0.9462\n"
     ]
    },
    {
     "data": {
      "text/plain": [
       "[0.2802983830359444, 0.9462]"
      ]
     },
     "execution_count": 52,
     "metadata": {},
     "output_type": "execute_result"
    }
   ],
   "source": [
    "loaded_dnn_model.evaluate(test_images, test_labels)"
   ]
  },
  {
   "cell_type": "code",
   "execution_count": 53,
   "metadata": {},
   "outputs": [
    {
     "data": {
      "text/plain": [
       "<tensorflow.python.keras.losses.SparseCategoricalCrossentropy at 0x134ebccdc08>"
      ]
     },
     "execution_count": 53,
     "metadata": {},
     "output_type": "execute_result"
    }
   ],
   "source": [
    "loaded_dnn_model.loss"
   ]
  },
  {
   "cell_type": "code",
   "execution_count": 85,
   "metadata": {},
   "outputs": [
    {
     "name": "stdout",
     "output_type": "stream",
     "text": [
      "Train on 60000 samples, validate on 10000 samples\n",
      "Epoch 1/10\n",
      "59712/60000 [============================>.] - ETA: 0s - loss: 2.5565 - accuracy: 0.8573\n",
      "Epoch 00001: val_accuracy improved from -inf to 0.89200, saving model to best_model_checkpoint\n",
      "INFO:tensorflow:Assets written to: best_model_checkpoint\\assets\n",
      "60000/60000 [==============================] - 2s 35us/sample - loss: 2.5457 - accuracy: 0.8576 - val_loss: 0.4575 - val_accuracy: 0.8920\n",
      "Epoch 2/10\n",
      "57920/60000 [===========================>..] - ETA: 0s - loss: 0.3793 - accuracy: 0.9068\n",
      "Epoch 00002: val_accuracy improved from 0.89200 to 0.91230, saving model to best_model_checkpoint\n",
      "INFO:tensorflow:Assets written to: best_model_checkpoint\\assets\n",
      "60000/60000 [==============================] - 2s 32us/sample - loss: 0.3779 - accuracy: 0.9072 - val_loss: 0.3783 - val_accuracy: 0.9123\n",
      "Epoch 3/10\n",
      "58720/60000 [============================>.] - ETA: 0s - loss: 0.2905 - accuracy: 0.9261\n",
      "Epoch 00003: val_accuracy improved from 0.91230 to 0.92390, saving model to best_model_checkpoint\n",
      "INFO:tensorflow:Assets written to: best_model_checkpoint\\assets\n",
      "60000/60000 [==============================] - 2s 32us/sample - loss: 0.2901 - accuracy: 0.9263 - val_loss: 0.3347 - val_accuracy: 0.9239\n",
      "Epoch 4/10\n",
      "59808/60000 [============================>.] - ETA: 0s - loss: 0.2470 - accuracy: 0.9360\n",
      "Epoch 00004: val_accuracy improved from 0.92390 to 0.93570, saving model to best_model_checkpoint\n",
      "INFO:tensorflow:Assets written to: best_model_checkpoint\\assets\n",
      "60000/60000 [==============================] - 2s 33us/sample - loss: 0.2475 - accuracy: 0.9359 - val_loss: 0.3013 - val_accuracy: 0.9357\n",
      "Epoch 5/10\n",
      "58752/60000 [============================>.] - ETA: 0s - loss: 0.2404 - accuracy: 0.9392\n",
      "Epoch 00005: val_accuracy improved from 0.93570 to 0.93990, saving model to best_model_checkpoint\n",
      "INFO:tensorflow:Assets written to: best_model_checkpoint\\assets\n",
      "60000/60000 [==============================] - 2s 32us/sample - loss: 0.2397 - accuracy: 0.9393 - val_loss: 0.2900 - val_accuracy: 0.9399\n",
      "Epoch 6/10\n",
      "58464/60000 [============================>.] - ETA: 0s - loss: 0.2181 - accuracy: 0.9439\n",
      "Epoch 00006: val_accuracy improved from 0.93990 to 0.94540, saving model to best_model_checkpoint\n",
      "INFO:tensorflow:Assets written to: best_model_checkpoint\\assets\n",
      "60000/60000 [==============================] - 2s 32us/sample - loss: 0.2167 - accuracy: 0.9442 - val_loss: 0.2542 - val_accuracy: 0.9454\n",
      "Epoch 7/10\n",
      "59456/60000 [============================>.] - ETA: 0s - loss: 0.2045 - accuracy: 0.9499\n",
      "Epoch 00007: val_accuracy did not improve from 0.94540\n",
      "60000/60000 [==============================] - 2s 28us/sample - loss: 0.2049 - accuracy: 0.9499 - val_loss: 0.2862 - val_accuracy: 0.9429\n",
      "Epoch 8/10\n",
      "59552/60000 [============================>.] - ETA: 0s - loss: 0.1935 - accuracy: 0.9525\n",
      "Epoch 00008: val_accuracy did not improve from 0.94540\n",
      "60000/60000 [==============================] - 2s 29us/sample - loss: 0.1934 - accuracy: 0.9525 - val_loss: 0.3493 - val_accuracy: 0.9405\n",
      "Epoch 9/10\n",
      "59104/60000 [============================>.] - ETA: 0s - loss: 0.1921 - accuracy: 0.9527\n",
      "Epoch 00009: val_accuracy improved from 0.94540 to 0.94810, saving model to best_model_checkpoint\n",
      "INFO:tensorflow:Assets written to: best_model_checkpoint\\assets\n",
      "60000/60000 [==============================] - 2s 32us/sample - loss: 0.1926 - accuracy: 0.9527 - val_loss: 0.3153 - val_accuracy: 0.9481\n",
      "Epoch 10/10\n",
      "59136/60000 [============================>.] - ETA: 0s - loss: 0.1789 - accuracy: 0.9559\n",
      "Epoch 00010: val_accuracy improved from 0.94810 to 0.94940, saving model to best_model_checkpoint\n",
      "INFO:tensorflow:Assets written to: best_model_checkpoint\\assets\n",
      "60000/60000 [==============================] - 2s 32us/sample - loss: 0.1786 - accuracy: 0.9560 - val_loss: 0.2987 - val_accuracy: 0.9494\n"
     ]
    }
   ],
   "source": [
    "from tensorflow.keras.callbacks import ModelCheckpoint\n",
    "\n",
    "dnn_model = get_dnn_model()\n",
    "dnn_model.compile(optimizer='adam',\n",
    "              loss=tf.keras.losses.SparseCategoricalCrossentropy(),\n",
    "              metrics=['accuracy']) #Can add more (or custom) e.g.: MSE\n",
    "\n",
    "best_checkpoint_path = 'best_model_checkpoint' \n",
    "best_checkpoint_callback = ModelCheckpoint(\n",
    "                        filepath=best_checkpoint_path,\n",
    "                        save_freq='epoch', #How often you want to save\n",
    "                        save_best_only=True,\n",
    "                        monitor='val_accuracy',\n",
    "                        verbose=1,\n",
    "                        save_weights_only=False #Can be set to False (default) if you only want to save the weights and not the architecture\n",
    "                    )\n",
    "\n",
    "history = dnn_model.fit(train_images, train_labels, batch_size=32, epochs=10, validation_data=(test_images, test_labels), callbacks=[\n",
    "     best_checkpoint_callback\n",
    "] ) # We get the history back"
   ]
  },
  {
   "cell_type": "code",
   "execution_count": 86,
   "metadata": {},
   "outputs": [],
   "source": [
    "loaded_dnn_model = load_model(\"best_model_checkpoint\")"
   ]
  },
  {
   "cell_type": "code",
   "execution_count": 87,
   "metadata": {},
   "outputs": [
    {
     "name": "stdout",
     "output_type": "stream",
     "text": [
      "10000/10000 [==============================] - 0s 17us/sample - loss: 0.2987 - accuracy: 0.9494\n"
     ]
    },
    {
     "data": {
      "text/plain": [
       "[0.2987486907524406, 0.9494]"
      ]
     },
     "execution_count": 87,
     "metadata": {},
     "output_type": "execute_result"
    }
   ],
   "source": [
    "dnn_model.evaluate(test_images, test_labels)"
   ]
  },
  {
   "cell_type": "code",
   "execution_count": 88,
   "metadata": {},
   "outputs": [
    {
     "data": {
      "text/plain": [
       "<tensorflow.python.keras.losses.SparseCategoricalCrossentropy at 0x134eea6b108>"
      ]
     },
     "execution_count": 88,
     "metadata": {},
     "output_type": "execute_result"
    }
   ],
   "source": [
    "dnn_model.loss"
   ]
  },
  {
   "cell_type": "code",
   "execution_count": 89,
   "metadata": {},
   "outputs": [
    {
     "data": {
      "text/plain": [
       "<tensorflow.python.keras.losses.SparseCategoricalCrossentropy at 0x134ec6e19c8>"
      ]
     },
     "execution_count": 89,
     "metadata": {},
     "output_type": "execute_result"
    }
   ],
   "source": [
    "loaded_dnn_model.loss"
   ]
  },
  {
   "cell_type": "code",
   "execution_count": 90,
   "metadata": {},
   "outputs": [
    {
     "name": "stdout",
     "output_type": "stream",
     "text": [
      "10000/10000 [==============================] - 0s 20us/sample - loss: 0.2587 - accuracy: 0.9494\n"
     ]
    },
    {
     "data": {
      "text/plain": [
       "[0.25865899575696094, 0.9494]"
      ]
     },
     "execution_count": 90,
     "metadata": {},
     "output_type": "execute_result"
    }
   ],
   "source": [
    "loaded_dnn_model.evaluate(test_images, test_labels)"
   ]
  },
  {
   "cell_type": "code",
   "execution_count": null,
   "metadata": {},
   "outputs": [],
   "source": []
  }
 ],
 "metadata": {
  "kernelspec": {
   "display_name": "Python 3",
   "language": "python",
   "name": "python3"
  },
  "language_info": {
   "codemirror_mode": {
    "name": "ipython",
    "version": 3
   },
   "file_extension": ".py",
   "mimetype": "text/x-python",
   "name": "python",
   "nbconvert_exporter": "python",
   "pygments_lexer": "ipython3",
   "version": "3.7.7"
  }
 },
 "nbformat": 4,
 "nbformat_minor": 4
}
